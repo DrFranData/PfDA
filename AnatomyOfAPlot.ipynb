{
  "cells": [
    {
   "cell_type": "markdown",
   "id": "29af5b39",
   "metadata": {},
   "source": [
     "[![Open In Colab](https://colab.research.google.com/assets/colab-badge.svg)](https://colab.research.google.com/github/DrFranData/PfDA/blob/main/AnatomyOfAPlot.ipynb)\n",
    " "
   ]
  },
    {
      "cell_type": "markdown",
      "metadata": {
        "id": "intro-text"
      },
      "source": [
        "# Anatomy of a Plot\n",
        "\n",
        "Here is a simple plot. What does it show?"
      ]
    },
    {
      "cell_type": "code",
      "execution_count": null,
      "metadata": {
        "id": "basic-plot"
      },
      "outputs": [],
      "source": [
        "import matplotlib.pyplot as plt\n",
        "\n",
        "x = [1, 2, 3, 4, 5]\n",
        "y = [1, 4, 9, 16, 25]\n",
        "\n",
        "plt.plot(x, y)\n",
        "plt.show()"
      ]
    },
    {
      "cell_type": "markdown",
      "metadata": {
        "id": "basic-analysis"
      },
      "source": [
        "The plot displays a simple quadratic relationship, but it's not very informative without axis labels or a title.\n",
        "\n",
        "Let's improve it by adding those:"
      ]
    },
    {
      "cell_type": "code",
      "execution_count": null,
      "metadata": {
        "id": "add-labels"
      },
      "outputs": [],
      "source": [
        "plt.plot(x, y)\n",
        "plt.xlabel('X values')\n",
        "plt.ylabel('Y = X squared')\n",
        "plt.title('Basic Quadratic Plot')\n",
        "plt.show()"
      ]
    },
    {
      "cell_type": "markdown",
      "metadata": {
        "id": "better-plot"
      },
      "source": [
        "Now we understand what the data represents. Still, we can improve it further by adjusting visual styles:"
      ]
    },
    {
      "cell_type": "code",
      "execution_count": null,
      "metadata": {
        "id": "improve-style"
      },
      "outputs": [],
      "source": [
        "plt.figure(figsize=(8, 5))\n",
        "plt.plot(x, y, marker='o', linestyle='--', color='green')\n",
        "plt.xlabel('X values')\n",
        "plt.ylabel('Y = X squared')\n",
        "plt.title('Styled Quadratic Plot')\n",
        "plt.grid(True)\n",
        "plt.show()"
      ]
    },
    {
      "cell_type": "markdown",
      "metadata": {
        "id": "explanation"
      },
      "source": [
        "Adding markers, a dashed line style, and a grid makes the plot easier to read. \n",
        "We can also annotate specific points for clarity."
      ]
    },
    {
      "cell_type": "code",
      "execution_count": null,
      "metadata": {
        "id": "annotations"
      },
      "outputs": [],
      "source": [
        "plt.figure(figsize=(8, 5))\n",
        "plt.plot(x, y, marker='o', linestyle='--', color='blue')\n",
        "plt.xlabel('X values')\n",
        "plt.ylabel('Y = X squared')\n",
        "plt.title('Quadratic Plot with Annotations')\n",
        "plt.grid(True)\n",
        "\n",
        "# Annotate the maximum value\n",
        "plt.annotate('Peak', xy=(5, 25), xytext=(3.5, 27),\n",
        "             arrowprops=dict(facecolor='black', shrink=0.05))\n",
        "\n",
        "plt.show()"
      ]
    },
    {
      "cell_type": "markdown",
      "metadata": {
        "id": "final-remarks"
      },
      "source": [
        "By iterating on our plot, we've made it clearer, more informative, and easier to interpret.\n",
        "\n",
        "Good plotting practices include:\n",
        "- Labeling axes and titles\n",
        "- Using gridlines and markers for readability\n",
        "- Annotating key data points\n",
        "- Choosing colors and styles that enhance clarity\n",
        "\n",
        "These enhancements help others (and future you!) quickly understand the message your data is conveying."
      ]
    },
  {
    "cell_type": "markdown",
    "metadata": {},
    "source": [
      "## Customizing the Plot Background and Ticks\n",
      "\n",
      "Let's enhance the plot by modifying the background color and customizing the ticks. This improves readability and style."
    ]
  },
  {
    "cell_type": "code",
    "execution_count": null,
    "metadata": {},
    "outputs": [],
    "source": [
      "import matplotlib.pyplot as plt\n",
      "\n",
      "x = [1, 2, 3, 4, 5]\n",
      "y = [i**2 for i in x]\n",
      "\n",
      "fig, ax = plt.subplots()\n",
      "fig.patch.set_facecolor('lightgrey')  # Set figure background\n",
      "ax.set_facecolor('whitesmoke')        # Set plot area background\n",
      "\n",
      "ax.plot(x, y, marker='o')\n",
      "ax.set_title('Square Numbers')\n",
      "ax.set_xlabel('Number')\n",
      "ax.set_ylabel('Square')\n",
      "\n",
      "# Customize ticks\n",
      "ax.set_xticks(x)\n",
      "ax.set_yticks([i**2 for i in x])\n",
      "ax.tick_params(axis='both', direction='inout', length=6, width=2, colors='darkblue')\n",
      "\n",
      "plt.show()"
    ]
  },
  {
    "cell_type": "markdown",
    "metadata": {},
    "source": [
      "## Creating Subplots\n",
      "\n",
      "Subplots allow us to display multiple plots side by side or stacked vertically. This is useful when comparing datasets or visualizations."
    ]
  },
  {
    "cell_type": "code",
    "execution_count": null,
    "metadata": {},
    "outputs": [],
    "source": [
      "import numpy as np\n",
      "\n",
      "x = np.linspace(0, 10, 100)\n",
      "y1 = np.sin(x)\n",
      "y2 = np.cos(x)\n",
      "\n",
      "fig, (ax1, ax2) = plt.subplots(2, 1, figsize=(8, 6), sharex=True)\n",
      "fig.suptitle('Sine and Cosine Waves')\n",
      "\n",
      "# First subplot\n",
      "ax1.plot(x, y1, 'r')\n",
      "ax1.set_ylabel('sin(x)')\n",
      "ax1.grid(True)\n",
      "\n",
      "# Second subplot\n",
      "ax2.plot(x, y2, 'b')\n",
      "ax2.set_xlabel('x')\n",
      "ax2.set_ylabel('cos(x)')\n",
      "ax2.grid(True)\n",
      "\n",
      "plt.tight_layout()\n",
      "plt.subplots_adjust(top=0.9)  # Adjust space for the super title\n",
      "plt.show()"
    ]
  },
  {
    "cell_type": "markdown",
    "metadata": {},
    "source": [
      "We used `plt.subplots()` with `sharex=True` to align the x-axes and `tight_layout()` to avoid overlapping elements. The `suptitle` function gives an overall title to the figure."
    ]
  }




  ],
  "metadata": {
    "kernelspec": {
      "display_name": "Python 3",
      "language": "python",
      "name": "python3"
    },
    "language_info": {
      "codemirror_mode": {
        "name": "ipython",
        "version": 3
      },
      "file_extension": ".py",
      "mimetype": "text/x-python",
      "name": "python",
      "nbconvert_exporter": "python",
      "pygments_lexer": "ipython3",
      "version": "3.10.12"
    },
    "colab": {
      "provenance": [],
      "include_colab_link": true
    }
  },
  "nbformat": 4,
  "nbformat_minor": 0
}
