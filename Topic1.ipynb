{
 "cells": [
{
   "cell_type": "markdown",
   "id": "29af5b39",
   "metadata": {},
   "source": [
     "[![Open In Colab](https://colab.research.google.com/assets/colab-badge.svg)](https://colab.research.google.com/github/DrFranData/PythonPuzzles/blob/main/Beginner/Evenodd.ipynb)\n",
    " "
   ]
  },
  {
   "cell_type": "markdown",
   "metadata": {},
   "source": [
    "# 🐍 Introduction to Data Analysis with Python\n",
    "\n",
    "Welcome to your first practical activity in the course **Python for Data Analysis**. This notebook introduces the basics of using Python for data analysis.\n",
    "\n",
    "**Objectives:**\n",
    "- Understand what data analysis is\n",
    "- Learn why Python is used for data analysis\n",
    "- Set up and test your Python environment\n",
    "- Run your first lines of code\n",
    "\n",
    "> ⚠️ **No prior programming experience needed!** We’ll go step by step.\n"
   ]
  },
  {
   "cell_type": "markdown",
   "metadata": {},
   "source": [
    "## 📊 What is Data Analysis?\n",
    "\n",
    "**Data analysis** is the process of inspecting, cleaning, transforming, and modeling data to discover useful information, support decision-making, and tell a story with data.\n",
    "\n",
    "**Common examples:**\n",
    "- Analyzing sales trends\n",
    "- Summarizing survey responses\n",
    "- Tracking website or app usage\n",
    "- Studying health outcomes by age or region"
   ]
  },
  {
   "cell_type": "markdown",
   "metadata": {},
   "source": [
    "## 🧰 Why Python for Data Analysis?\n",
    "\n",
    "Python is widely used in data analysis because:\n",
    "- It’s **easy to learn** and read\n",
    "- It has powerful libraries like `pandas` and `matplotlib`\n",
    "- It works well with spreadsheets, databases, and files\n",
    "- It’s free and supported by a large community\n",
    "\n",
    "> 🛠 Tools we’ll use in this course: `pandas`, `matplotlib`, and `seaborn`"
   ]
  },
  {
   "cell_type": "markdown",
   "metadata": {},
   "source": [
    "## ✅ Let’s Get Started: Your First Python Code\n",
    "\n",
    "Try running the cell below. Click on it and press **Shift + Enter** or click the ▶️ Run button in the toolbar."
   ]
  },
  {
   "cell_type": "code",
   "execution_count": null,
   "metadata": {},
   "outputs": [],
   "source": [
    "print(\"Hello, data world!\")"
   ]
  },
  {
   "cell_type": "markdown",
   "metadata": {},
   "source": [
    "Great! That’s your first line of Python. Now let’s try some basic math and text."
   ]
  },
  {
   "cell_type": "code",
   "execution_count": null,
   "metadata": {},
   "outputs": [],
   "source": [
    "# Simple math\n",
    "5 + 3 * 2"
   ]
  },
  {
   "cell_type": "code",
   "execution_count": null,
   "metadata": {},
   "outputs": [],
   "source": [
    "# Working with text\n",
    "name = \"Alice\"\n",
    "print(\"Welcome, \" + name)"
   ]
  },
  {
   "cell_type": "markdown",
   "metadata": {},
   "source": [
    "## ✍️ Exercise 1: Try It Yourself\n",
    "\n",
    "1. Change the name to your own name and run the code.\n",
    "2. Try another math expression (e.g., `(10 + 5) / 3`)\n",
    "\n",
    "> ✅ Remember to use **Shift + Enter** to run the cell."
   ]
  },
  {
   "cell_type": "code",
   "execution_count": null,
   "metadata": {},
   "outputs": [],
   "source": [
    "# Your turn\n",
    "your_name = \"YourNameHere\"\n",
    "print(\"Hello, \" + your_name + \"! Let’s analyze some data.\")"
   ]
  },
  {
   "cell_type": "markdown",
   "metadata": {},
   "source": [
    "## 📦 Importing Libraries\n",
    "\n",
    "Python needs libraries to work with data. Let’s import `pandas`, the most important one."
   ]
  },
  {
   "cell_type": "code",
   "execution_count": null,
   "metadata": {},
   "outputs": [],
   "source": [
    "import pandas as pd\n",
    "print(\"pandas ready!\")"
   ]
  },
  {
   "cell_type": "markdown",
   "metadata": {},
   "source": [
    "## 📄 Loading a CSV File\n",
    "\n",
    "We will use a small dataset called `sample_data.csv`. For now, let’s pretend we already have it. This is how you would load it:\n",
    "\n",
    "> Note: We'll use a simple dataset in future lessons. If the file isn’t available, you can skip this for now."
   ]
  },
  {
   "cell_type": "code",
   "execution_count": null,
   "metadata": {},
   "outputs": [],
   "source": [
    "# Sample CSV loading (won’t work until we provide a file)\n",
    "# data = pd.read_csv(\"sample_data.csv\")\n",
    "# data.head()"
   ]
  },
  {
   "cell_type": "markdown",
   "metadata": {},
   "source": [
    "## 🧠 Summary\n",
    "\n",
    "- You wrote your first Python code ✅\n",
    "- You learned what data analysis is ✅\n",
    "- You imported the pandas library ✅\n",
    "- You saw how to load a dataset ✅\n",
    "\n",
    "In the next lesson, we’ll **load real data** and start exploring it!"
   ]
  },
  {
   "cell_type": "markdown",
   "metadata": {},
   "source": [
    "---\n",
    "## 🎯 Challenge (Optional)\n",
    "\n",
    "1. Try using Python to calculate your age from your birth year.\n",
    "2. Write a message that includes your name and age.\n",
    "\n",
    "> Hint: Use `2025 - your_birth_year`"
   ]
  },
  {
   "cell_type": "code",
   "execution_count": null,
   "metadata": {},
   "outputs": [],
   "source": [
    "# Your challenge code here\n",
    "birth_year = 1965  # Change this\n",
    "age = 2025 - birth_year\n",
    "print(\"You are\", age, \"years old!\")"
   ]
  }
 ],
 "metadata": {
  "kernelspec": {
   "display_name": "Python 3",
   "language": "python",
   "name": "python3"
  },
  "language_info": {
   "name": "python",
   "version": "3.9"
  }
 },
 "nbformat": 4,
 "nbformat_minor": 5
}
