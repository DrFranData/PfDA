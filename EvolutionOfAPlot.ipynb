{
  "cells": [
    {
   "cell_type": "markdown",
   "id": "29af5b39",
   "metadata": {},
   "source": [
     "[![Open In Colab](https://colab.research.google.com/assets/colab-badge.svg)](https://colab.research.google.com/github/DrFranData/PfDA/blob/main/EvolutionOfAPlot.ipynb)\n",
    " "
   ]
  },
    {
      "cell_type": "markdown",
      "metadata": {
        "id": "intro-text"
      },
      "source": [
        "# Evolution of a Plot\n",
        "\n",
        "Here is a simple plot. What does it show?"
      ]
    },
    {
      "cell_type": "code",
      "execution_count": null,
      "metadata": {
        "id": "basic-plot"
      },
      "outputs": [],
      "source": [
        "import matplotlib.pyplot as plt\n",
        "\n",
        "x = [1, 2, 3, 4, 5]\n",
        "y = [1, 4, 9, 16, 25]\n",
        "\n",
        "plt.plot(x, y)\n",
        "plt.show()"
      ]
    },
    {
      "cell_type": "markdown",
      "metadata": {
        "id": "basic-analysis"
      },
      "source": [
        "The plot displays a simple quadratic relationship, but it's not very informative without axis labels or a title.\n",
        "\n",
        "Let's improve it by adding those:"
      ]
    },
    {
      "cell_type": "code",
      "execution_count": null,
      "metadata": {
        "id": "add-labels"
      },
      "outputs": [],
      "source": [
        "plt.plot(x, y)\n",
        "plt.xlabel('X values')\n",
        "plt.ylabel('Y = X squared')\n",
        "plt.title('Basic Quadratic Plot')\n",
        "plt.show()"
      ]
    },
    {
      "cell_type": "markdown",
      "metadata": {
        "id": "better-plot"
      },
      "source": [
        "Now we understand what the data represents. Still, we can improve it further by adjusting visual styles:"
      ]
    },
    {
      "cell_type": "code",
      "execution_count": null,
      "metadata": {
        "id": "improve-style"
      },
      "outputs": [],
      "source": [
        "plt.figure(figsize=(8, 5))\n",
        "plt.plot(x, y, marker='o', linestyle='--', color='green')\n",
        "plt.xlabel('X values')\n",
        "plt.ylabel('Y = X squared')\n",
        "plt.title('Styled Quadratic Plot')\n",
        "plt.grid(True)\n",
        "plt.show()"
      ]
    },
    {
      "cell_type": "markdown",
      "metadata": {
        "id": "explanation"
      },
      "source": [
        "Adding markers, a dashed line style, and a grid makes the plot easier to read. \n",
        "We can also annotate specific points for clarity."
      ]
    },
    {
      "cell_type": "code",
      "execution_count": null,
      "metadata": {
        "id": "annotations"
      },
      "outputs": [],
      "source": [
        "plt.figure(figsize=(8, 5))\n",
        "plt.plot(x, y, marker='o', linestyle='--', color='blue')\n",
        "plt.xlabel('X values')\n",
        "plt.ylabel('Y = X squared')\n",
        "plt.title('Quadratic Plot with Annotations')\n",
        "plt.grid(True)\n",
        "\n",
        "# Annotate the maximum value\n",
        "plt.annotate('Peak', xy=(5, 25), xytext=(3.5, 27),\n",
        "             arrowprops=dict(facecolor='black', shrink=0.05))\n",
        "\n",
        "plt.show()"
      ]
    },
    {
      "cell_type": "markdown",
      "metadata": {
        "id": "final-remarks"
      },
      "source": [
        "By iterating on our plot, we've made it clearer, more informative, and easier to interpret.\n",
        "\n",
        "Good plotting practices include:\n",
        "- Labeling axes and titles\n",
        "- Using gridlines and markers for readability\n",
        "- Annotating key data points\n",
        "- Choosing colors and styles that enhance clarity\n",
        "\n",
        "These enhancements help others (and future you!) quickly understand the message your data is conveying."
      ]
    }
  ],
  "metadata": {
    "kernelspec": {
      "display_name": "Python 3",
      "language": "python",
      "name": "python3"
    },
    "language_info": {
      "codemirror_mode": {
        "name": "ipython",
        "version": 3
      },
      "file_extension": ".py",
      "mimetype": "text/x-python",
      "name": "python",
      "nbconvert_exporter": "python",
      "pygments_lexer": "ipython3",
      "version": "3.10.12"
    },
    "colab": {
      "provenance": [],
      "include_colab_link": true
    }
  },
  "nbformat": 4,
  "nbformat_minor": 0
}
