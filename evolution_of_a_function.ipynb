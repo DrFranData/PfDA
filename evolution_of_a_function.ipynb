{
  "cells": [
    {
      "cell_type": "markdown",
      "metadata": {
        "id": "view-in-github",
        "colab_type": "text"
      },
      "source": [
        "<a href=\"https://colab.research.google.com/github/DrFranData/PfDA/blob/main/evolution_of_a_function.ipynb\" target=\"_parent\"><img src=\"https://colab.research.google.com/assets/colab-badge.svg\" alt=\"Open In Colab\"/></a>"
      ]
    },
    {
      "cell_type": "markdown",
      "metadata": {
        "id": "TgkwpSpm09C4"
      },
      "source": [
        "# Evolution of a Function\n",
        "\n",
        "Here is a simple function. What does it do?"
      ]
    },
    {
      "cell_type": "code",
      "execution_count": null,
      "metadata": {
        "id": "tctZV1Qz09C6"
      },
      "outputs": [],
      "source": [
        "def calc(a, b):\n",
        "    x = a + b\n",
        "    return x"
      ]
    },
    {
      "cell_type": "markdown",
      "metadata": {
        "id": "x1wT-1f109C8"
      },
      "source": [
        "Only by looking at the function implementation can we get a proper idea about the purpose of the function: it calculates the sum of two parameters.\n",
        "\n",
        "We can be more explicit:"
      ]
    },
    {
      "cell_type": "code",
      "execution_count": null,
      "metadata": {
        "id": "AuluIncm09C9"
      },
      "outputs": [],
      "source": [
        "def calculate_sum(number1, number2):\n",
        "    result = number1 + number2\n",
        "    return result"
      ]
    },
    {
      "cell_type": "markdown",
      "metadata": {
        "id": "rwy3NY7e09C-"
      },
      "source": [
        "This is an improvement: we now know what the function does, and we've got an expectation of the sort of values to pass as arguments.\n",
        "\n",
        "We can also add unit tests to make sure the function works as expected:"
      ]
    },
    {
      "cell_type": "code",
      "execution_count": null,
      "metadata": {
        "id": "bXq997wA09C_",
        "outputId": "e408d961-e40d-4610-c34b-dd71c9cc4c55"
      },
      "outputs": [
        {
          "name": "stderr",
          "output_type": "stream",
          "text": [
            ".\n",
            "----------------------------------------------------------------------\n",
            "Ran 1 test in 0.001s\n",
            "\n",
            "OK\n"
          ]
        }
      ],
      "source": [
        "import unittest\n",
        "\n",
        "class TestCalculateSum(unittest.TestCase):\n",
        "    def test_valid_inputs(self):\n",
        "        self.assertEqual(calculate_sum(5.0, 3.0), 8.0)\n",
        "        self.assertEqual(calculate_sum(-1, 1), 0.0)\n",
        "        self.assertEqual(calculate_sum(0, 0), 0.0)\n",
        "        self.assertEqual(calculate_sum(2.5, 2.5), 5.0)\n",
        "\n",
        "\n",
        "if __name__ == '__main__':\n",
        "    unittest.main(argv=[''], exit=False)"
      ]
    },
    {
      "cell_type": "markdown",
      "metadata": {
        "id": "AY_0v5zJ09DB"
      },
      "source": [
        "We can be more explicit:"
      ]
    },
    {
      "cell_type": "code",
      "execution_count": null,
      "metadata": {
        "id": "eIfYtyq209DC"
      },
      "outputs": [],
      "source": [
        "def calculate_sum(first_number: float, second_number: float) -> float:\n",
        "    \"\"\"\n",
        "    Calculate the sum of two numbers.\n",
        "\n",
        "    Args:\n",
        "        first_number (float): The first number to add\n",
        "        second_number (float): The second number to add\n",
        "\n",
        "    Returns:\n",
        "        float: The sum of the two input numbers\n",
        "    \"\"\"\n",
        "    result = first_number + second_number\n",
        "    return result"
      ]
    },
    {
      "cell_type": "markdown",
      "metadata": {
        "id": "CwnNVLXr09DD"
      },
      "source": [
        "Adding type hints helps us to be explicit about the types of values expected to be passed as arguments, and using Python's docstrings is a great way to add documentation for other developers (and future us!).\n",
        "\n",
        "But type hints are just that: hints. A developer can still pass the wrong argument type, so we need to be careful to check that they are the right type before using them:"
      ]
    },
    {
      "cell_type": "code",
      "execution_count": null,
      "metadata": {
        "id": "xQpQP6mP09DD"
      },
      "outputs": [],
      "source": [
        "def calculate_sum(first_number: float, second_number: float) -> float:\n",
        "    \"\"\"\n",
        "    Calculate the sum of two numbers.\n",
        "\n",
        "    Args:\n",
        "        first_number (float): The first number to add\n",
        "        second_number (float): The second number to add\n",
        "\n",
        "    Returns:\n",
        "        float: The sum of the two input numbers\n",
        "\n",
        "    Raises:\n",
        "        TypeError: If either input is not a number\n",
        "        ValueError: If either input is None\n",
        "    \"\"\"\n",
        "    # Validate inputs are not None\n",
        "    if first_number is None or second_number is None:\n",
        "        raise ValueError(\"Input numbers cannot be None\")\n",
        "\n",
        "    # Validate inputs are numbers\n",
        "    if not isinstance(first_number, (int, float)) or not isinstance(second_number, (int, float)):\n",
        "        raise TypeError(\"Inputs must be numbers\")\n",
        "\n",
        "    result = first_number + second_number\n",
        "    return result"
      ]
    },
    {
      "cell_type": "markdown",
      "metadata": {
        "id": "f6DwmGOo09DE"
      },
      "source": [
        "We first check that the two parameters are not `None` and then check that they are both either an `int` or `float`. Python will convert values for us (sometimes with unexpected results) so making sure that the parameters are both numbers is good.\n",
        "\n",
        "`ValueError` and `TypeError` are part of Python, and so making use of them here is good practice.\n",
        "\n",
        "We should also update our unit tests to check that the function raises the correct exceptions.\n"
      ]
    },
    {
      "cell_type": "code",
      "execution_count": null,
      "metadata": {
        "id": "2gfI0-hw09DE",
        "outputId": "1d4a19cb-11aa-4995-e1f8-8026b44f71fe"
      },
      "outputs": [
        {
          "name": "stderr",
          "output_type": "stream",
          "text": [
            "...\n",
            "----------------------------------------------------------------------\n",
            "Ran 3 tests in 0.003s\n",
            "\n",
            "OK\n"
          ]
        }
      ],
      "source": [
        "class TestCalculateSum(unittest.TestCase):\n",
        "    def test_valid_inputs(self):\n",
        "        self.assertEqual(calculate_sum(5.0, 3.0), 8.0)\n",
        "        self.assertEqual(calculate_sum(-1, 1), 0.0)\n",
        "        self.assertEqual(calculate_sum(0, 0), 0.0)\n",
        "        self.assertEqual(calculate_sum(2.5, 2.5), 5.0)\n",
        "\n",
        "    def test_none_inputs(self):\n",
        "        with self.assertRaises(ValueError):\n",
        "            calculate_sum(None, 1)\n",
        "        with self.assertRaises(ValueError):\n",
        "            calculate_sum(1, None)\n",
        "        with self.assertRaises(ValueError):\n",
        "            calculate_sum(None, None)\n",
        "\n",
        "    def test_invalid_type_inputs(self):\n",
        "        with self.assertRaises(TypeError):\n",
        "            calculate_sum(\"a\", 1)\n",
        "        with self.assertRaises(TypeError):\n",
        "            calculate_sum(1, \"b\")\n",
        "        with self.assertRaises(TypeError):\n",
        "            calculate_sum(\"a\", \"b\")\n",
        "        with self.assertRaises(TypeError):\n",
        "            calculate_sum([1, 2], 3)\n",
        "        with self.assertRaises(TypeError):\n",
        "            calculate_sum(1, [2, 3])\n",
        "        with self.assertRaises(TypeError):\n",
        "            calculate_sum([1, 2], [3, 4])\n",
        "\n",
        "if __name__ == '__main__':\n",
        "    unittest.main(argv=[''], exit=False)"
      ]
    },
    {
      "cell_type": "markdown",
      "metadata": {
        "id": "EVfUeHii09DF"
      },
      "source": [
        "\n",
        "Finally, adding some examples and notes to the docstring makes this function a first-class example of a good function:"
      ]
    },
    {
      "cell_type": "code",
      "execution_count": null,
      "metadata": {
        "id": "5OMkLW4k09DF"
      },
      "outputs": [],
      "source": [
        "def calculate_sum(first_number: float, second_number: float) -> float:\n",
        "    \"\"\"\n",
        "    Calculate the sum of two numbers.\n",
        "\n",
        "    This function takes two numerical inputs and returns their sum. It includes\n",
        "    input validation to ensure proper usage.\n",
        "\n",
        "    Args:\n",
        "        first_number (float): The first number to add\n",
        "        second_number (float): The second number to add\n",
        "\n",
        "    Returns:\n",
        "        float: The sum of the two input numbers\n",
        "\n",
        "    Raises:\n",
        "        TypeError: If either input is not a number (int or float)\n",
        "        ValueError: If either input is None\n",
        "\n",
        "    Examples:\n",
        "        >>> calculate_sum(5.0, 3.0)\n",
        "        8.0\n",
        "        >>> calculate_sum(-1, 1)\n",
        "        0.0\n",
        "        >>> calculate_sum(0, 0)\n",
        "        0.0\n",
        "\n",
        "    Notes:\n",
        "        - Accepts both integers and floating-point numbers\n",
        "        - Returns result as a float for consistency\n",
        "        - Raises appropriate exceptions for invalid inputs\n",
        "    \"\"\"\n",
        "    # Validate inputs are not None\n",
        "    if first_number is None or second_number is None:\n",
        "        raise ValueError(\"Input numbers cannot be None\")\n",
        "\n",
        "    # Validate inputs are numbers\n",
        "    if not isinstance(first_number, (int, float)) or not isinstance(second_number, (int, float)):\n",
        "        raise TypeError(\"Inputs must be numbers (int or float)\")\n",
        "\n",
        "    # Calculate and return result\n",
        "    result = float(first_number + second_number)  # Convert to float for consistency\n",
        "    return result"
      ]
    }
  ],
  "metadata": {
    "kernelspec": {
      "display_name": "Python 3",
      "language": "python",
      "name": "python3"
    },
    "language_info": {
      "codemirror_mode": {
        "name": "ipython",
        "version": 3
      },
      "file_extension": ".py",
      "mimetype": "text/x-python",
      "name": "python",
      "nbconvert_exporter": "python",
      "pygments_lexer": "ipython3",
      "version": "3.10.12"
    },
    "colab": {
      "provenance": [],
      "include_colab_link": true
    }
  },
  "nbformat": 4,
  "nbformat_minor": 0
}