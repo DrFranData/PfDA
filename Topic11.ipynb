{
 "nbformat": 4,
 "nbformat_minor": 2,
 "metadata": {
  "colab": {
   "name": "Intro_to_Python.ipynb",
   "provenance": []
  },
  "kernelspec": {
   "name": "python3",
   "display_name": "Python 3"
  },
  "language_info": {
   "name": "python",
   "version": "3.x"
  }
 },
 "cells": [
  {
   "cell_type": "markdown",
   "metadata": {},
   "source": [
    "<a href=\"https://colab.research.google.com/github/DrFranData/PfDA/blob/main/Topic11.ipynb\" target=\"_blank\">\n",
    "  <img src=\"https://colab.research.google.com/assets/colab-badge.svg\" alt=\"Open In Colab\"/>\n",
    "</a>\n"
   ]
  },
  {
   "cell_type": "markdown",
   "metadata": {},
   "source": [
    "# 🐍 Introduction to Python\n",
    "\n",
    "Welcome to the first lesson in this Python series! In this notebook, we’ll explore the basics of Python programming. Python is a powerful, versatile, and beginner-friendly language widely used in many fields like data science, web development, automation, and more.\n",
    "\n",
    "### ✅ What You’ll Learn\n",
    "- What Python is and why it’s popular\n",
    "- Running your first Python code\n",
    "- Basic syntax and structure\n",
    "- How to write comments\n",
    "- Using print statements\n",
    "- Basic data types\n",
    "- Performing simple operations\n"
   ]
  },
  {
   "cell_type": "markdown",
   "metadata": {},
   "source": [
    "## 📌 What is Python?\n",
    "\n",
    "Python is a **high-level, interpreted, general-purpose programming language** created by Guido van Rossum and released in 1991.\n",
    "\n",
    "**Key Features:**\n",
    "- Simple and readable syntax\n",
    "- Interpreted (not compiled)\n",
    "- Dynamically typed\n",
    "- Huge standard library and community support\n",
    "- Free and open-source\n",
    "\n",
    "**Used in:**\n",
    "- Web Development (Django, Flask)\n",
    "- Data Science (Pandas, NumPy, SciPy)\n",
    "- Machine Learning (TensorFlow, Scikit-learn)\n",
    "- Automation (scripts, bots)\n",
    "- Game development, and much more!"
   ]
  },
  {
   "cell_type": "markdown",
   "metadata": {},
   "source": [
    "## 🚀 Running Your First Python Code\n",
    "\n",
    "Let’s start with a simple line of Python code. Click the play button ▶️ next to the cell below to run it!"
   ]
  },
  {
   "cell_type": "code",
   "execution_count": null,
   "metadata": {},
   "outputs": [],
   "source": [
    "print(\"Hello, world!\")"
   ]
  },
  {
   "cell_type": "markdown",
   "metadata": {},
   "source": [
    "## 🧠 Understanding Python Syntax\n",
    "\n",
    "Python uses **indentation** (whitespace) to define blocks of code. Unlike other languages that use curly braces `{}` or keywords like `end`, Python uses indentation levels.\n",
    "\n",
    "Here’s an example of a basic conditional block:"
   ]
  },
  {
   "cell_type": "code",
   "execution_count": null,
   "metadata": {},
   "outputs": [],
   "source": [
    "x = 10\n",
    "if x > 5:\n",
    "    print(\"x is greater than 5\")"
   ]
  },
  {
   "cell_type": "markdown",
   "metadata": {},
   "source": [
    "## 💬 Comments in Python\n",
    "\n",
    "Use the `#` symbol to write a comment in Python. Comments are ignored by the Python interpreter and are useful for explaining code.\n",
    "\n",
    "### Example:"
   ]
  },
  {
   "cell_type": "code",
   "execution_count": null,
   "metadata": {},
   "outputs": [],
   "source": [
    "# This is a comment\n",
    "print(\"This line runs\")  # This comment is after code"
   ]
  },
  {
   "cell_type": "markdown",
   "metadata": {},
   "source": [
    "## 🖨️ Printing Output\n",
    "\n",
    "The `print()` function displays output to the screen.\n",
    "\n",
    "You can print text, numbers, or even variables."
   ]
  },
  {
   "cell_type": "code",
   "execution_count": null,
   "metadata": {},
   "outputs": [],
   "source": [
    "print(\"This is text\")\n",
    "print(1234)\n",
    "name = \"Alice\"\n",
    "print(\"Hello\", name)"
   ]
  },
  {
   "cell_type": "markdown",
   "metadata": {},
   "source": [
    "## 🔢 Basic Data Types in Python\n",
    "\n",
    "| Type     | Example       | Description                  |\n",
    "|----------|---------------|------------------------------|\n",
    "| int      | `5`, `-3`      | Integer numbers              |\n",
    "| float    | `3.14`, `-0.5` | Decimal numbers              |\n",
    "| str      | `'Hello'`     | Text (string)                |\n",
    "| bool     | `True`, `False` | Boolean (true/false)       |"
   ]
  },
  {
   "cell_type": "code",
   "execution_count": null,
   "metadata": {},
   "outputs": [],
   "source": [
    "age = 25          # int\n",
    "price = 19.99     # float\n",
    "name = \"Bob\"      # str\n",
    "is_happy = True   # bool\n",
    "\n",
    "print(age, price, name, is_happy)"
   ]
  },
  {
   "cell_type": "markdown",
   "metadata": {},
   "source": [
    "## ➕ Basic Math Operations\n",
    "\n",
    "You can do basic arithmetic in Python using `+`, `-`, `*`, `/`, `//`, `%`, and `**`."
   ]
  },
  {
   "cell_type": "code",
   "execution_count": null,
   "metadata": {},
   "outputs": [],
   "source": [
    "a = 10\n",
    "b = 3\n",
    "\n",
    "print(\"Addition:\", a + b)\n",
    "print(\"Subtraction:\", a - b)\n",
    "print(\"Multiplication:\", a * b)\n",
    "print(\"Division:\", a / b)\n",
    "print(\"Floor Division:\", a // b)\n",
    "print(\"Modulus:\", a % b)\n",
    "print(\"Exponentiation:\", a ** b)"
   ]
  },
  {
   "cell_type": "markdown",
   "metadata": {},
   "source": [
    "## 🧮 Variables in Python\n",
    "\n",
    "A **variable** is a name that refers to a value. You create a variable using the assignment operator `=`."
   ]
  },
  {
   "cell_type": "code",
   "execution_count": null,
   "metadata": {},
   "outputs": [],
   "source": [
    "name = \"Charlie\"\n",
    "age = 30\n",
    "is_student = False\n",
    "\n",
    "print(name, age, is_student)"
   ]
  },
  {
   "cell_type": "markdown",
   "metadata": {},
   "source": [
    "## 🤔 Dynamic Typing\n",
    "\n",
    "Python is **dynamically typed**, meaning you don’t need to declare a variable’s type explicitly.\n",
    "\n",
    "The type is inferred at runtime:"
   ]
  },
  {
   "cell_type": "code",
   "execution_count": null,
   "metadata": {},
   "outputs": [],
   "source": [
    "x = 42        # int\n",
    "print(type(x))\n",
    "x = \"hello\"   # str\n",
    "print(type(x))"
   ]
  },

  {
   "cell_type": "markdown",
   "metadata": {},
   "source": [
    "# 📝 Practice Exercises: Intro to Python\n",
    "\n",
    "Try completing the following exercises to reinforce what you’ve learned so far!"
   ]
  },
  {
   "cell_type": "markdown",
   "metadata": {},
   "source": [
    "### Exercise 1: Print Your Name\n",
    "Use the `print()` function to display your name."
   ]
  },
  {
   "cell_type": "code",
   "execution_count": null,
   "metadata": {},
   "outputs": [],
   "source": [
    "# TODO: Replace 'Your Name' with your actual name\n",
    "print(\"Your Name\")"
   ]
  },
  {
   "cell_type": "markdown",
   "metadata": {},
   "source": [
    "### Exercise 2: Variable Assignment\n",
    "Create variables to store your name, age, and whether you're a student, then print them."
   ]
  },
  {
   "cell_type": "code",
   "execution_count": null,
   "metadata": {},
   "outputs": [],
   "source": [
    "# TODO: Assign values to the variables below\n",
    "name = \"\"\n",
    "age = 0\n",
    "is_student = False\n",
    "\n",
    "print(name)\n",
    "print(age)\n",
    "print(is_student)"
   ]
  },
  {
   "cell_type": "markdown",
   "metadata": {},
   "source": [
    "### Exercise 3: Simple Math\n",
    "Use Python to calculate the result of 8 plus 12, then multiply it by 2."
   ]
  },
  {
   "cell_type": "code",
   "execution_count": null,
   "metadata": {},
   "outputs": [],
   "source": [
    "# TODO: Write your math expression below\n",
    "result = (8 + 12) * 2\n",
    "print(result)"
   ]
  },
  {
   "cell_type": "markdown",
   "metadata": {},
   "source": [
    "### Exercise 4: Check Types\n",
    "Use the `type()` function to print the data type of each variable."
   ]
  },
  {
   "cell_type": "code",
   "execution_count": null,
   "metadata": {},
   "outputs": [],
   "source": [
    "# Try changing the values and observing the types\n",
    "a = 3.14\n",
    "b = \"Python\"\n",
    "c = True\n",
    "\n",
    "print(type(a))\n",
    "print(type(b))\n",
    "print(type(c))"
   ]
  },
  {
   "cell_type": "markdown",
   "metadata": {},
   "source": [
    "### Exercise 5: Add Comments\n",
    "Write a small block of code that includes at least two comments explaining what the code is doing."
   ]
  },
  {
   "cell_type": "code",
   "execution_count": null,
   "metadata": {},
   "outputs": [],
   "source": [
    "# TODO: Add meaningful comments to the code below\n",
    "num1 = 5\n",
    "num2 = 10\n",
    "total = num1 + num2\n",
    "print(\"Total:\", total)"
   ]
  }

 ]
}
