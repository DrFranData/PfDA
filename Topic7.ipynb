{
 "cells":[
{
   "cell_type": "markdown",
   "id": "29af5b39",
   "metadata": {},
   "source": [
     "[![Open In Colab](https://colab.research.google.com/assets/colab-badge.svg)](https://colab.research.google.com/github/DrFranData/PfDA/blob/main/Topic7.ipynb)\n",
    " "
   ]
  },
  {
    "cell_type": "markdown",
    "metadata": {},
    "source": [
      "# Topic 7 - Data Analysis with Python\n",
      "\n",
      "In this section, we'll perform **exploratory data analysis (EDA)** and **statistical analysis** using Python to gain insights into the Titanic dataset. This stage of the data science workflow helps us better understand the variables, identify trends and relationships, and form hypotheses that can guide future modeling or deeper investigation.\n",
      "\n",
      "We'll make use of Python libraries such as `pandas`, `matplotlib`, and `seaborn` to:\n",
      "- Explore data distributions\n",
      "- Investigate relationships between features\n",
      "- Answer data-driven questions\n",
      "- Support our findings with visualizations and summary statistics"
    ]
  },
  {
    "cell_type": "markdown",
    "metadata": {},
    "source": [
      "## Recap: Data Cleaning\n",
      "\n",
      "Before diving into analysis, it’s important to ensure that the dataset has been properly cleaned. Here's a brief recap of the data cleansing steps we performed earlier:\n",
      "\n",
      "1. **Missing values** were addressed in several columns:\n",
      "   - `cabin`: Filled with the string `'None'` to indicate missing cabin info.\n",
      "   - `age`: Filled with the **mean age** of all passengers.\n",
      "   - `embarked`: Filled with the **most common port** (mode).\n",
      "   - `fare`: Imputed with the **median fare** for passengers of the same class and embarkation point.\n",
      "\n",
      "2. **Feature Engineering** included:\n",
      "   - Extracting the `title` (e.g., Mr, Miss, etc.) from the `name` column.\n",
      "   - Standardizing rare and variant titles into broader categories.\n",
      "\n",
      "3. **Sanity checks**:\n",
      "   - Verified that there are no remaining missing values in the dataset.\n",
      "   \n",
      "With these preprocessing steps complete, we are now ready to begin exploring the data in more depth."
    ]
  },
  {
    "cell_type": "markdown",
    "metadata": {},
    "source": [
      "## Univariate Analysis\n",
      "\n",
      "In this section, we’ll examine individual features in the Titanic dataset to understand their distributions and characteristics. We’ll use a mix of statistical summaries and visualizations to answer key questions."
    ]
  },
  {
    "cell_type": "markdown",
    "metadata": {},
    "source": [
      "### What is the distribution of passengers' ages?\n",
      "\n",
      "Understanding the age distribution helps us learn about the demographic of Titanic passengers. It also allows us to identify patterns such as age groups that are over- or under-represented."
    ]
  },
  {
    "cell_type": "code",
    "execution_count": null,
    "metadata": {},
    "outputs": [],
    "source": [
      "import matplotlib.pyplot as plt\n",
      "import seaborn as sns\n",
      "\n",
      "# Set a consistent style\n",
      "sns.set(style='whitegrid')\n",
      "\n",
      "# Plot the age distribution\n",
      "plt.figure(figsize=(10, 6))\n",
      "sns.histplot(titanic['age'], bins=30, kde=True, color='skyblue')\n",
      "plt.title('Distribution of Passenger Ages')\n",
      "plt.xlabel('Age')\n",
      "plt.ylabel('Count')\n",
      "plt.show()"
    ]
  },
  {
    "cell_type": "code",
    "execution_count": null,
    "metadata": {},
    "outputs": [],
    "source": [
      "# Basic statistics for age\n",
      "titanic['age'].describe()"
    ]
  },
  {
    "cell_type": "markdown",
    "metadata": {},
    "source": [
      "### How were passengers distributed by travel class?\n",
      "\n",
      "The `pclass` feature indicates the socio-economic status of a passenger (1 = upper, 2 = middle, 3 = lower). Let's see how many passengers were in each class."
    ]
  },
  {
    "cell_type": "code",
    "execution_count": null,
    "metadata": {},
    "outputs": [],
    "source": [
      "# Countplot for travel class\n",
      "plt.figure(figsize=(8, 5))\n",
      "sns.countplot(x='pclass', data=titanic, palette='Set2')\n",
      "plt.title('Passenger Count by Class')\n",
      "plt.xlabel('Passenger Class')\n",
      "plt.ylabel('Count')\n",
      "plt.show()"
    ]
  },
  {
    "cell_type": "code",
    "execution_count": null,
    "metadata": {},
    "outputs": [],
    "source": [
      "# Percentage breakdown by class\n",
      "titanic['pclass'].value_counts(normalize=True).mul(100).round(2)"
    ]
  },
  {
    "cell_type": "markdown",
    "metadata": {},
    "source": [
      "### What were the most common embarkation points?\n",
      "\n",
      "Passengers boarded the Titanic from three ports: Cherbourg (C), Queenstown (Q), and Southampton (S). Let’s see how the passengers were distributed across these ports."
    ]
  },
  {
    "cell_type": "code",
    "execution_count": null,
    "metadata": {},
    "outputs": [],
    "source": [
      "# Countplot for embarkation ports\n",
      "plt.figure(figsize=(8, 5))\n",
      "sns.countplot(x='embarked', data=titanic, palette='pastel')\n",
      "plt.title('Passenger Count by Embarkation Port')\n",
      "plt.xlabel('Embarkation Port')\n",
      "plt.ylabel('Count')\n",
      "plt.show()"
    ]
  },
  {
    "cell_type": "code",
    "execution_count": null,
    "metadata": {},
    "outputs": [],
    "source": [
      "# Relative frequencies\n",
      "titanic['embarked'].value_counts(normalize=True).mul(100).round(2)"
    ]
  },
  {
    "cell_type": "markdown",
    "metadata": {},
    "source": [
      "### How is fare distributed among passengers?\n",
      "\n",
      "The `fare` column indicates how much each passenger paid for their ticket. Let’s look at the distribution and see if there are any extreme values or skewness."
    ]
  },
  {
    "cell_type": "code",
    "execution_count": null,
    "metadata": {},
    "outputs": [],
    "source": [
      "# Fare distribution\n",
      "plt.figure(figsize=(10, 6))\n",
      "sns.histplot(titanic['fare'], bins=40, kde=True, color='lightgreen')\n",
      "plt.title('Distribution of Fare Prices')\n",
      "plt.xlabel('Fare')\n",
      "plt.ylabel('Count')\n",
      "plt.xlim(0, 300)  # Remove extreme outliers for better visibility\n",
      "plt.show()"
    ]
  },
  {
    "cell_type": "code",
    "execution_count": null,
    "metadata": {},
    "outputs": [],
    "source": [
      "# Summary statistics for fare\n",
      "titanic['fare'].describe()"
    ]
  },

{
  "cell_type": "markdown",
  "metadata": {},
  "source": [
    "## Multivariate Analysis\n",
    "\n",
    "So far, we have explored the Titanic dataset using **univariate analysis**, which involves examining each variable individually. While this provides helpful insights, it doesn't show how variables interact with each other.\n",
    "\n",
    "**Multivariate analysis** allows us to explore relationships **between multiple variables**. This is crucial because real-world data is rarely independent — passenger survival, for instance, may depend not just on one factor (e.g., `sex`) but on several (like `sex`, `pclass`, and `age`).\n",
    "\n",
    "By looking at how features interact, we can:\n",
    "- Uncover hidden patterns\n",
    "- Detect multicollinearity (when features are correlated with each other)\n",
    "- Improve feature selection for modeling\n",
    "- Gain a more holistic understanding of the data\n",
    "\n",
    "Let's begin our multivariate exploration."
  ]
},
{
  "cell_type": "markdown",
  "metadata": {},
  "source": [
    "### What combinations of variables are associated with higher survival rates?"
  ]
},
{
  "cell_type": "code",
  "execution_count": null,
  "metadata": {},
  "outputs": [],
  "source": [
    "import seaborn as sns\n",
    "import matplotlib.pyplot as plt\n",
    "\n",
    "# Create a heatmap of survival rate by sex and class\n",
    "pivot = titanic.pivot_table(index='sex', columns='pclass', values='survived')\n",
    "sns.heatmap(pivot, annot=True, cmap='YlGnBu', fmt='.2f')\n",
    "plt.title('Survival Rate by Sex and Class')\n",
    "plt.ylabel('Sex')\n",
    "plt.xlabel('Passenger Class')\n",
    "plt.show()"
  ]
},
{
  "cell_type": "markdown",
  "metadata": {},
  "source": [
    "We observe clear patterns:\n",
    "\n",
    "- **Women had much higher survival rates** across all classes.\n",
    "- **First-class passengers** had higher survival, regardless of sex.\n",
    "\n",
    "This heatmap confirms the strong interaction between `sex` and `pclass` in determining survival outcomes."
  ]
},
{
  "cell_type": "markdown",
  "metadata": {},
  "source": [
    "### How does age interact with survival and passenger class?"
  ]
},
{
  "cell_type": "code",
  "execution_count": null,
  "metadata": {},
  "outputs": [],
  "source": [
    "sns.histplot(data=titanic, x='age', hue='survived', multiple='stack', bins=30)\n",
    "plt.title('Survival Distribution by Age')\n",
    "plt.xlabel('Age')\n",
    "plt.ylabel('Count')\n",
    "plt.show()"
  ]
},
{
  "cell_type": "markdown",
  "metadata": {},
  "source": [
    "From this histogram:\n",
    "\n",
    "- Younger children had a higher survival rate, likely due to evacuation priorities.\n",
    "- Older adults (especially over age 60) had low survival rates.\n",
    "- There's a noticeable overlap across ages — survival wasn't limited to any single group.\n"
  ]
},
{
  "cell_type": "code",
  "execution_count": null,
  "metadata": {},
  "outputs": [],
  "source": [
    "sns.boxplot(data=titanic, x='pclass', y='age', hue='survived')\n",
    "plt.title('Age Distribution by Class and Survival')\n",
    "plt.xlabel('Passenger Class')\n",
    "plt.ylabel('Age')\n",
    "plt.show()"
  ]
},
{
  "cell_type": "markdown",
  "metadata": {},
  "source": [
    "The boxplot reveals:\n",
    "\n",
    "- In all classes, survivors tended to be younger.\n",
    "- First class had older passengers overall, but age still played a role in survival likelihood.\n",
    "- Third class had a wider age distribution, but many non-survivors were concentrated here.\n"
  ]
},
{
  "cell_type": "markdown",
  "metadata": {},
  "source": [
    "### Are there correlations among numerical features?"
  ]
},
{
  "cell_type": "code",
  "execution_count": null,
  "metadata": {},
  "outputs": [],
  "source": [
    "# Compute correlation matrix\n",
    "corr = titanic[['age', 'fare', 'pclass', 'sibsp', 'parch', 'survived']].corr()\n",
    "\n",
    "# Plot a heatmap\n",
    "sns.heatmap(corr, annot=True, cmap='coolwarm')\n",
    "plt.title('Correlation Matrix')\n",
    "plt.show()"
  ]
},
{
  "cell_type": "markdown",
  "metadata": {},
  "source": [
    "The correlation matrix shows:\n",
    "\n",
    "- **Fare is negatively correlated with class** (lower class number = higher fare).\n",
    "- **Fare has a weak positive correlation with survival** — more expensive tickets were slightly more likely to survive.\n",
    "- **SibSp and Parch are positively correlated**, as expected (they both describe family connections).\n",
    "- **Survival has modest correlations with fare and class**, but not strongly with age or family size.\n",
    "\n",
    "Multivariate analysis reveals subtler trends that are not obvious from univariate views alone."
  ]
}

  ],
  "metadata": {
    "kernelspec": {
      "display_name": "Python 3",
      "language": "python",
      "name": "python3"
    },
    "language_info": {
      "name": "python",
      "version": "3.10"
    }
  },
  "nbformat": 4,
  "nbformat_minor": 5
}

