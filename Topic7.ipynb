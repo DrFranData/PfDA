{
 "cells":[
  {
    "cell_type": "markdown",
    "metadata": {},
    "source": [
      "# Topic 7 - Data Analysis with Python\n",
      "\n",
      "In this section, we'll perform **exploratory data analysis (EDA)** and **statistical analysis** using Python to gain insights into the Titanic dataset. This stage of the data science workflow helps us better understand the variables, identify trends and relationships, and form hypotheses that can guide future modeling or deeper investigation.\n",
      "\n",
      "We'll make use of Python libraries such as `pandas`, `matplotlib`, and `seaborn` to:\n",
      "- Explore data distributions\n",
      "- Investigate relationships between features\n",
      "- Answer data-driven questions\n",
      "- Support our findings with visualizations and summary statistics"
    ]
  },
  {
    "cell_type": "markdown",
    "metadata": {},
    "source": [
      "## Recap: Data Cleaning\n",
      "\n",
      "Before diving into analysis, it’s important to ensure that the dataset has been properly cleaned. Here's a brief recap of the data cleansing steps we performed earlier:\n",
      "\n",
      "1. **Missing values** were addressed in several columns:\n",
      "   - `cabin`: Filled with the string `'None'` to indicate missing cabin info.\n",
      "   - `age`: Filled with the **mean age** of all passengers.\n",
      "   - `embarked`: Filled with the **most common port** (mode).\n",
      "   - `fare`: Imputed with the **median fare** for passengers of the same class and embarkation point.\n",
      "\n",
      "2. **Feature Engineering** included:\n",
      "   - Extracting the `title` (e.g., Mr, Miss, etc.) from the `name` column.\n",
      "   - Standardizing rare and variant titles into broader categories.\n",
      "\n",
      "3. **Sanity checks**:\n",
      "   - Verified that there are no remaining missing values in the dataset.\n",
      "   \n",
      "With these preprocessing steps complete, we are now ready to begin exploring the data in more depth."
    ]
  },
  {
    "cell_type": "markdown",
    "metadata": {},
    "source": [
      "## Univariate Analysis\n",
      "\n",
      "In this section, we’ll examine individual features in the Titanic dataset to understand their distributions and characteristics. We’ll use a mix of statistical summaries and visualizations to answer key questions."
    ]
  },
  {
    "cell_type": "markdown",
    "metadata": {},
    "source": [
      "### What is the distribution of passengers' ages?\n",
      "\n",
      "Understanding the age distribution helps us learn about the demographic of Titanic passengers. It also allows us to identify patterns such as age groups that are over- or under-represented."
    ]
  },
  {
    "cell_type": "code",
    "execution_count": null,
    "metadata": {},
    "outputs": [],
    "source": [
      "import matplotlib.pyplot as plt\n",
      "import seaborn as sns\n",
      "\n",
      "# Set a consistent style\n",
      "sns.set(style='whitegrid')\n",
      "\n",
      "# Plot the age distribution\n",
      "plt.figure(figsize=(10, 6))\n",
      "sns.histplot(titanic['age'], bins=30, kde=True, color='skyblue')\n",
      "plt.title('Distribution of Passenger Ages')\n",
      "plt.xlabel('Age')\n",
      "plt.ylabel('Count')\n",
      "plt.show()"
    ]
  },
  {
    "cell_type": "code",
    "execution_count": null,
    "metadata": {},
    "outputs": [],
    "source": [
      "# Basic statistics for age\n",
      "titanic['age'].describe()"
    ]
  },
  {
    "cell_type": "markdown",
    "metadata": {},
    "source": [
      "### How were passengers distributed by travel class?\n",
      "\n",
      "The `pclass` feature indicates the socio-economic status of a passenger (1 = upper, 2 = middle, 3 = lower). Let's see how many passengers were in each class."
    ]
  },
  {
    "cell_type": "code",
    "execution_count": null,
    "metadata": {},
    "outputs": [],
    "source": [
      "# Countplot for travel class\n",
      "plt.figure(figsize=(8, 5))\n",
      "sns.countplot(x='pclass', data=titanic, palette='Set2')\n",
      "plt.title('Passenger Count by Class')\n",
      "plt.xlabel('Passenger Class')\n",
      "plt.ylabel('Count')\n",
      "plt.show()"
    ]
  },
  {
    "cell_type": "code",
    "execution_count": null,
    "metadata": {},
    "outputs": [],
    "source": [
      "# Percentage breakdown by class\n",
      "titanic['pclass'].value_counts(normalize=True).mul(100).round(2)"
    ]
  },
  {
    "cell_type": "markdown",
    "metadata": {},
    "source": [
      "### What were the most common embarkation points?\n",
      "\n",
      "Passengers boarded the Titanic from three ports: Cherbourg (C), Queenstown (Q), and Southampton (S). Let’s see how the passengers were distributed across these ports."
    ]
  },
  {
    "cell_type": "code",
    "execution_count": null,
    "metadata": {},
    "outputs": [],
    "source": [
      "# Countplot for embarkation ports\n",
      "plt.figure(figsize=(8, 5))\n",
      "sns.countplot(x='embarked', data=titanic, palette='pastel')\n",
      "plt.title('Passenger Count by Embarkation Port')\n",
      "plt.xlabel('Embarkation Port')\n",
      "plt.ylabel('Count')\n",
      "plt.show()"
    ]
  },
  {
    "cell_type": "code",
    "execution_count": null,
    "metadata": {},
    "outputs": [],
    "source": [
      "# Relative frequencies\n",
      "titanic['embarked'].value_counts(normalize=True).mul(100).round(2)"
    ]
  },
  {
    "cell_type": "markdown",
    "metadata": {},
    "source": [
      "### How is fare distributed among passengers?\n",
      "\n",
      "The `fare` column indicates how much each passenger paid for their ticket. Let’s look at the distribution and see if there are any extreme values or skewness."
    ]
  },
  {
    "cell_type": "code",
    "execution_count": null,
    "metadata": {},
    "outputs": [],
    "source": [
      "# Fare distribution\n",
      "plt.figure(figsize=(10, 6))\n",
      "sns.histplot(titanic['fare'], bins=40, kde=True, color='lightgreen')\n",
      "plt.title('Distribution of Fare Prices')\n",
      "plt.xlabel('Fare')\n",
      "plt.ylabel('Count')\n",
      "plt.xlim(0, 300)  # Remove extreme outliers for better visibility\n",
      "plt.show()"
    ]
  },
  {
    "cell_type": "code",
    "execution_count": null,
    "metadata": {},
    "outputs": [],
    "source": [
      "# Summary statistics for fare\n",
      "titanic['fare'].describe()"
    ]
  }
  ],
  "metadata": {
    "kernelspec": {
      "display_name": "Python 3",
      "language": "python",
      "name": "python3"
    },
    "language_info": {
      "name": "python",
      "version": "3.10"
    }
  },
  "nbformat": 4,
  "nbformat_minor": 5
}

