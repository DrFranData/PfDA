{
 "cells": [
{
   "cell_type": "markdown",
   "id": "29af5b39",
   "metadata": {},
   "source": [
     "[![Open In Colab](https://colab.research.google.com/assets/colab-badge.svg)](https://colab.research.google.com/github/DrFranData/PfDA/blob/main/Topic2.ipynb)\n",
    " "
   ]
  },
  {
   "cell_type": "markdown",
   "metadata": {},
   "source": [
    "# 🚗 Topic 2: Loading and Inspecting Data with Pandas\n",
    "\n",
    "In this lesson, we’ll load a real-world dataset using **pandas**, and explore it to understand its shape, structure, and contents.\n",
    "\n",
    "**Dataset:** Auto MPG — information about fuel efficiency and car features (from 1970s/80s)\n",
    "\n",
    "## 🧠 Learning Objectives\n",
    "- Load a dataset from a URL\n",
    "- View the top and bottom of the dataset\n",
    "- Get summary information\n",
    "- Understand rows, columns, and data types\n",
    "- Perform basic exploration"
   ]
  },
  {
   "cell_type": "markdown",
   "metadata": {},
   "source": [
    "## 📥 Step 1: Load the Dataset\n",
    "\n",
    "We’ll use `pandas` to read the dataset from a URL."
   ]
  },
  {
   "cell_type": "code",
   "execution_count": null,
   "metadata": {},
   "outputs": [],
   "source": [
    "import pandas as pd\n",
    "\n",
    "url = \"https://raw.githubusercontent.com/plotly/datasets/master/auto-mpg.csv\"\n",
    "df = pd.read_csv(url)\n",
    "df.head()  # Show the first 5 rows"
   ]
  },
  {
   "cell_type": "markdown",
   "metadata": {},
   "source": [
    "## 🔍 Step 2: Look at the Whole Dataset\n",
    "\n",
    "Let’s explore the dataset using some pandas commands."
   ]
  },
  {
   "cell_type": "code",
   "execution_count": null,
   "metadata": {},
   "outputs": [],
   "source": [
    "# See how many rows and columns\n",
    "df.shape"
   ]
  },
  {
   "cell_type": "code",
   "execution_count": null,
   "metadata": {},
   "outputs": [],
   "source": [
    "# See column names\n",
    "df.columns"
   ]
  },
  {
   "cell_type": "code",
   "execution_count": null,
   "metadata": {},
   "outputs": [],
   "source": [
    "# Show the last 5 rows\n",
    "df.tail()"
   ]
  },
  {
   "cell_type": "code",
   "execution_count": null,
   "metadata": {},
   "outputs": [],
   "source": [
    "# Get a random sample of 5 rows\n",
    "df.sample(5)"
   ]
  },
  {
   "cell_type": "markdown",
   "metadata": {},
   "source": [
    "## ℹ️ Step 3: Understand the Columns\n",
    "\n",
    "Each column in the dataset represents a type of information about each car."
   ]
  },
  {
   "cell_type": "code",
   "execution_count": null,
   "metadata": {},
   "outputs": [],
   "source": [
    "# Get summary of dataset\n",
    "df.info()"
   ]
  },
  {
   "cell_type": "code",
   "execution_count": null,
   "metadata": {},
   "outputs": [],
   "source": [
    "# Get descriptive statistics for numeric columns\n",
    "df.describe()"
   ]
  },
  {
   "cell_type": "markdown",
   "metadata": {},
   "source": [
    "**Column meanings:**\n",
    "- `mpg`: Miles per gallon (fuel efficiency)\n",
    "- `cylinders`: Engine size\n",
    "- `displacement`: Engine volume\n",
    "- `horsepower`: Power output\n",
    "- `weight`: Vehicle weight\n",
    "- `acceleration`: Time to accelerate\n",
    "- `model_year`: Year of the car (last two digits)\n",
    "- `origin`: Region (1 = USA, 2 = Europe, 3 = Asia)\n",
    "- `name`: Name of the car"
   ]
  },
  {
   "cell_type": "markdown",
   "metadata": {},
   "source": [
    "## ✍️ Exercise 1: Explore the Dataset\n",
    "\n",
    "Try answering the questions below by writing and running code in the next cells.\n",
    "\n",
    "1. How many rows are in the dataset?\n",
    "2. What are the names of the columns?\n",
    "3. What are the top 3 most common car names?\n",
    "4. How many unique values are there in the `origin` column?\n",
    "5. What is the average mpg of all cars?"
   ]
  },
  {
   "cell_type": "code",
   "execution_count": null,
   "metadata": {},
   "outputs": [],
   "source": [
    "# Your answers here\n",
    "# 1. Total rows\n",
    "df.shape[0]"
   ]
  },
  {
   "cell_type": "code",
   "execution_count": null,
   "metadata": {},
   "outputs": [],
   "source": [
    "# 2. Column names\n",
    "df.columns.tolist()"
   ]
  },
  {
   "cell_type": "code",
   "execution_count": null,
   "metadata": {},
   "outputs": [],
   "source": [
    "# 3. Top 3 car names\n",
    "df['name'].value_counts().head(3)"
   ]
  },
  {
   "cell_type": "code",
   "execution_count": null,
   "metadata": {},
   "outputs": [],
   "source": [
    "# 4. Unique values in origin\n",
    "df['origin'].nunique()"
   ]
  },
  {
   "cell_type": "code",
   "execution_count": null,
   "metadata": {},
   "outputs": [],
   "source": [
    "# 5. Average MPG\n",
    "df['mpg'].mean()"
   ]
  },
  {
 "cell_type": "markdown",
 "metadata": {},
 "source": [
  "## 🧾 Bonus: Slicing and Selecting Data\n",
  "\n",
  "Now that you’ve seen the data, let’s learn how to select specific **rows**, **columns**, and **combinations**.\n",
  "\n",
  "We’ll use the `.loc[]` and `.iloc[]` accessors in pandas."
   ]
   },
  {
 "cell_type": "code",
 "execution_count": null,
 "metadata": {},
 "outputs": [],
 "source": [
  "# Select a single column (as a Series)\n",
  "df['mpg'].head()"
 ]
  },
  {
 "cell_type": "code",
 "execution_count": null,
 "metadata": {},
 "outputs": [],
 "source": [
  "# Select multiple columns\n",
  "df[['mpg', 'horsepower', 'weight']].head()"
 ]
  },
{
 "cell_type": "code",
 "execution_count": null,
 "metadata": {},
 "outputs": [],
 "source": [
  "# Select rows 0 to 4 (inclusive of 0, exclusive of 5)\n",
  "df.iloc[0:5]"
 ]
},
{
 "cell_type": "code",
 "execution_count": null,
 "metadata": {},
 "outputs": [],
 "source": [
  "# Select rows 0 to 4 and only the mpg and name columns\n",
  "df.loc[0:4, ['mpg', 'name']]"
 ]
  },
{
 "cell_type": "markdown",
 "metadata": {},
 "source": [
  "## ✍️ Exercise 2: Try Some Slicing\n",
  "\n",
  "Use the cells below to practice:\n",
  "\n",
  "1. Show the `horsepower` of the first 10 cars.\n",
  "2. Show `name`, `mpg`, and `weight` for rows 10 to 15.\n",
  "3. Show all cars with an MPG greater than 35."
 ]
},
{
 "cell_type": "code",
 "execution_count": null,
 "metadata": {},
 "outputs": [],
 "source": [
  "# 1. Horsepower of first 10 cars\n",
  "df['horsepower'].iloc[:10]"
 ]
},
{
 "cell_type": "code",
 "execution_count": null,
 "metadata": {},
 "outputs": [],
 "source": [
  "# 2. Selected columns and rows 10–15\n",
  "df.loc[10:15, ['name', 'mpg', 'weight']]"
 ]
},
{
 "cell_type": "code",
 "execution_count": null,
 "metadata": {},
 "outputs": [],
 "source": [
  "# 3. Cars with mpg > 35\n",
  "df[df['mpg'] > 35]"
 ]
},
{
 "cell_type": "markdown",
 "metadata": {},
 "source": [
  "You now know how to access and explore different parts of your dataset — a key skill in any analysis.\n",
  "\n",
  "Coming up next: **cleaning and transforming data** to fix missing values and prepare it for deeper insights."
 ]
},
  {
   "cell_type": "markdown",
   "metadata": {},
   "source": [
    "## ✅ Summary\n",
    "\n",
    "- We used `pandas` to load a dataset from a URL\n",
    "- Explored the size, shape, and contents of the data\n",
    "- Viewed summary statistics and sample records\n",
    "- Practiced answering simple analytical questions\n",
    "\n",
   ]
  },
 {
 "cell_type": "markdown",
 "metadata": {},
 "source": [
  "## 🔬 Advanced Slicing & Filtering in Pandas\n",
  "\n",
  "Now let's go further and explore how to extract exactly what we want from our data.\n",
  "\n",
  "**Key tools:**\n",
  "- Boolean filtering (e.g. `df[df[\"mpg\"] > 30]`)\n",
  "- Multiple conditions with `&` (and) or `|` (or)\n",
  "- `.loc[]` and `.iloc[]` for slicing\n",
  "- `.isin()`, `.str.contains()`, and `.between()` for more flexibility"
 ]
},
{
 "cell_type": "code",
 "execution_count": null,
 "metadata": {},
 "outputs": [],
 "source": [
  "# 1. Cars with mpg over 30\n",
  "df[df['mpg'] > 30].head()"
 ]
},
{
 "cell_type": "code",
 "execution_count": null,
 "metadata": {},
 "outputs": [],
 "source": [
  "# 2. Cars from Asia (origin = 3)\n",
  "df[df['origin'] == 3].head()"
 ]
},
{
 "cell_type": "code",
 "execution_count": null,
 "metadata": {},
 "outputs": [],
 "source": [
  "# 3. Cars from 1980 with over 100 horsepower\n",
  "df[(df['model_year'] == 80) & (df['horsepower'] > 100)].head()"
 ]
},
{
 "cell_type": "code",
 "execution_count": null,
 "metadata": {},
 "outputs": [],
 "source": [
  "# 4. Cars with mpg between 25 and 35\n",
  "df[df['mpg'].between(25, 35)].head()"
 ]
},
{
 "cell_type": "code",
 "execution_count": null,
 "metadata": {},
 "outputs": [],
 "source": [
  "# 5. Cars with 'toyota' in the name\n",
  "df[df['name'].str.contains('toyota', case=False)].head()"
 ]
},
{
 "cell_type": "code",
 "execution_count": null,
 "metadata": {},
 "outputs": [],
 "source": [
  "# 6. Cars from Europe or Asia\n",
  "df[df['origin'].isin([2, 3])].head()"
 ]
},
{
 "cell_type": "code",
 "execution_count": null,
 "metadata": {},
 "outputs": [],
 "source": [
  "# 7. Only select 'name', 'mpg', 'weight' for heavy cars (>4000 lbs)\n",
  "df.loc[df['weight'] > 4000, ['name', 'mpg', 'weight']]"
 ]
},
{
 "cell_type": "code",
 "execution_count": null,
 "metadata": {},
 "outputs": [],
 "source": [
  "# 8. First 5 rows with horsepower under 70 and mpg over 30\n",
  "df[(df['horsepower'] < 70) & (df['mpg'] > 30)].head()"
 ]
},
{
 "cell_type": "code",
 "execution_count": null,
 "metadata": {},
 "outputs": [],
 "source": [
  "# 9. Use iloc to get rows 100 to 110\n",
  "df.iloc[100:111]"
 ]
},
{
 "cell_type": "code",
 "execution_count": null,
 "metadata": {},
 "outputs": [],
 "source": [
  "# 10. Use loc to get cars made in 1970 and show only mpg, horsepower\n",
  "df.loc[df['model_year'] == 70, ['mpg', 'horsepower']].head()"
 ]
},
{
 "cell_type": "markdown",
 "metadata": {},
 "source": [
  "## ✍️ Exercise 3: Try These!\n",
  "\n",
  "Answer the questions below using pandas code. Write and run your code in the cells provided."
 ]
},
{
 "cell_type": "markdown",
 "metadata": {},
 "source": [
  "1. Show all cars with weight over 3500.\n",
  "2. Show all European cars (origin = 2) made after 1978.\n",
  "3. Show all cars with mpg over 32 and weight under 2200.\n",
  "4. Show names of all cars with horsepower between 80 and 100.\n",
  "5. Show cars from 1975 with 'ford' in the name.\n",
  "6. Show only 'name' and 'mpg' for all Asian cars (origin = 3).\n",
  "7. How many cars have over 120 horsepower?\n",
  "8. Show all rows from 50 to 60 (inclusive) using `.iloc`.\n",
  "9. Show the top 5 lightest cars.\n",
  "10. Show the 3 heaviest cars with mpg over 25."
 ]
},
{
 "cell_type": "code",
 "execution_count": null,
 "metadata": {},
 "outputs": [],
 "source": [
  "# 1. Cars with weight over 3500\n",
  "df[df['weight'] > 3500]"
 ]
},
{
 "cell_type": "code",
 "execution_count": null,
 "metadata": {},
 "outputs": [],
 "source": [
  "# 2. European cars made after 1978\n",
  "df[(df['origin'] == 2) & (df['model_year'] > 78)]"
 ]
},
{
 "cell_type": "code",
 "execution_count": null,
 "metadata": {},
 "outputs": [],
 "source": [
  "# 3. mpg > 32 and weight < 2200\n",
  "df[(df['mpg'] > 32) & (df['weight'] < 2200)]"
 ]
},
{
 "cell_type": "code",
 "execution_count": null,
 "metadata": {},
 "outputs": [],
 "source": [
  "# 4. Horsepower between 80 and 100\n",
  "df[df['horsepower'].between(80, 100)][['name']]"
 ]
},
{
 "cell_type": "code",
 "execution_count": null,
 "metadata": {},
 "outputs": [],
 "source": [
  "# 5. Cars from 1975 with 'ford' in name\n",
  "df[(df['model_year'] == 75) & (df['name'].str.contains('ford', case=False))]"
 ]
},
{
 "cell_type": "code",
 "execution_count": null,
 "metadata": {},
 "outputs": [],
 "source": [
  "# 6. Only name and mpg for Asian cars\n",
  "df.loc[df['origin'] == 3, ['name', 'mpg']]"
 ]
},
{
 "cell_type": "code",
 "execution_count": null,
 "metadata": {},
 "outputs": [],
 "source": [
  "# 7. Count of cars with horsepower > 120\n",
  "df[df['horsepower'] > 120].shape[0]"
 ]
},
{
 "cell_type": "code",
 "execution_count": null,
 "metadata": {},
 "outputs": [],
 "source": [
  "# 8. Rows 50–60 using iloc\n",
  "df.iloc[50:61]"
 ]
},
{
 "cell_type": "code",
 "execution_count": null,
 "metadata": {},
 "outputs": [],
 "source": [
  "# 9. Top 5 lightest cars\n",
  "df.sort_values(by='weight').head(5)"
 ]
},
{
 "cell_type": "code",
 "execution_count": null,
 "metadata": {},
 "outputs": [],
 "source": [
  "# 10. Heaviest cars with mpg > 25 (top 3)\n",
  "df[df['mpg'] > 25].sort_values(by='weight', ascending=False).head(3)"
 ]
}

 ],
 "metadata": {
  "kernelspec": {
   "display_name": "Python 3",
   "language": "python",
   "name": "python3"
  },
  "language_info": {
   "name": "python",
   "version": "3.9"
  }
 },
 "nbformat": 4,
 "nbformat_minor": 5
}
