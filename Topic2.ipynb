{
 "cells": [
{
   "cell_type": "markdown",
   "id": "29af5b39",
   "metadata": {},
   "source": [
     "[![Open In Colab](https://colab.research.google.com/assets/colab-badge.svg)](https://colab.research.google.com/github/DrFranData/PfDA/blob/main/Topic2.ipynb)\n",
    " "
   ]
  },
  {
   "cell_type": "markdown",
   "metadata": {},
   "source": [
    "# 🚗 Topic 2: Loading and Inspecting Data with Pandas\n",
    "\n",
    "In this lesson, we’ll load a real-world dataset using **pandas**, and explore it to understand its shape, structure, and contents.\n",
    "\n",
    "**Dataset:** Auto MPG — information about fuel efficiency and car features (from 1970s/80s)\n",
    "\n",
    "## 🧠 Learning Objectives\n",
    "- Load a dataset from a URL\n",
    "- View the top and bottom of the dataset\n",
    "- Get summary information\n",
    "- Understand rows, columns, and data types\n",
    "- Perform basic exploration"
   ]
  },
  {
   "cell_type": "markdown",
   "metadata": {},
   "source": [
    "## 📥 Step 1: Load the Dataset\n",
    "\n",
    "We’ll use `pandas` to read the dataset from a URL."
   ]
  },
  {
   "cell_type": "code",
   "execution_count": null,
   "metadata": {},
   "outputs": [],
   "source": [
    "import pandas as pd\n",
    "\n",
    "url = \"https://raw.githubusercontent.com/plotly/datasets/master/auto-mpg.csv\"\n",
    "df = pd.read_csv(url)\n",
    "df.head()  # Show the first 5 rows"
   ]
  },
  {
   "cell_type": "markdown",
   "metadata": {},
   "source": [
    "## 🔍 Step 2: Look at the Whole Dataset\n",
    "\n",
    "Let’s explore the dataset using some pandas commands."
   ]
  },
  {
   "cell_type": "code",
   "execution_count": null,
   "metadata": {},
   "outputs": [],
   "source": [
    "# See how many rows and columns\n",
    "df.shape"
   ]
  },
  {
   "cell_type": "code",
   "execution_count": null,
   "metadata": {},
   "outputs": [],
   "source": [
    "# See column names\n",
    "df.columns"
   ]
  },
  {
   "cell_type": "code",
   "execution_count": null,
   "metadata": {},
   "outputs": [],
   "source": [
    "# Show the last 5 rows\n",
    "df.tail()"
   ]
  },
  {
   "cell_type": "code",
   "execution_count": null,
   "metadata": {},
   "outputs": [],
   "source": [
    "# Get a random sample of 5 rows\n",
    "df.sample(5)"
   ]
  },
  {
   "cell_type": "markdown",
   "metadata": {},
   "source": [
    "## ℹ️ Step 3: Understand the Columns\n",
    "\n",
    "Each column in the dataset represents a type of information about each car."
   ]
  },
  {
   "cell_type": "code",
   "execution_count": null,
   "metadata": {},
   "outputs": [],
   "source": [
    "# Get summary of dataset\n",
    "df.info()"
   ]
  },
  {
   "cell_type": "code",
   "execution_count": null,
   "metadata": {},
   "outputs": [],
   "source": [
    "# Get descriptive statistics for numeric columns\n",
    "df.describe()"
   ]
  },
  {
   "cell_type": "markdown",
   "metadata": {},
   "source": [
    "**Column meanings:**\n",
    "- `mpg`: Miles per gallon (fuel efficiency)\n",
    "- `cylinders`: Engine size\n",
    "- `displacement`: Engine volume\n",
    "- `horsepower`: Power output\n",
    "- `weight`: Vehicle weight\n",
    "- `acceleration`: Time to accelerate\n",
    "- `model_year`: Year of the car (last two digits)\n",
    "- `origin`: Region (1 = USA, 2 = Europe, 3 = Asia)\n",
    "- `name`: Name of the car"
   ]
  },
  {
   "cell_type": "markdown",
   "metadata": {},
   "source": [
    "## ✍️ Exercise 1: Explore the Dataset\n",
    "\n",
    "Try answering the questions below by writing and running code in the next cells.\n",
    "\n",
    "1. How many rows are in the dataset?\n",
    "2. What are the names of the columns?\n",
    "3. What are the top 3 most common car names?\n",
    "4. How many unique values are there in the `origin` column?\n",
    "5. What is the average mpg of all cars?"
   ]
  },
  {
   "cell_type": "code",
   "execution_count": null,
   "metadata": {},
   "outputs": [],
   "source": [
    "# Your answers here\n",
    "# 1. Total rows\n",
    "df.shape[0]"
   ]
  },
  {
   "cell_type": "code",
   "execution_count": null,
   "metadata": {},
   "outputs": [],
   "source": [
    "# 2. Column names\n",
    "df.columns.tolist()"
   ]
  },
  {
   "cell_type": "code",
   "execution_count": null,
   "metadata": {},
   "outputs": [],
   "source": [
    "# 3. Top 3 car names\n",
    "df['name'].value_counts().head(3)"
   ]
  },
  {
   "cell_type": "code",
   "execution_count": null,
   "metadata": {},
   "outputs": [],
   "source": [
    "# 4. Unique values in origin\n",
    "df['origin'].nunique()"
   ]
  },
  {
   "cell_type": "code",
   "execution_count": null,
   "metadata": {},
   "outputs": [],
   "source": [
    "# 5. Average MPG\n",
    "df['mpg'].mean()"
   ]
  },
  {
 "cell_type": "markdown",
 "metadata": {},
 "source": [
  "## 🧾 Bonus: Slicing and Selecting Data\n",
  "\n",
  "Now that you’ve seen the data, let’s learn how to select specific **rows**, **columns**, and **combinations**.\n",
  "\n",
  "We’ll use the `.loc[]` and `.iloc[]` accessors in pandas."
   ]
   },
  {
 "cell_type": "code",
 "execution_count": null,
 "metadata": {},
 "outputs": [],
 "source": [
  "# Select a single column (as a Series)\n",
  "df['mpg'].head()"
 ]
  },
  {
 "cell_type": "code",
 "execution_count": null,
 "metadata": {},
 "outputs": [],
 "source": [
  "# Select multiple columns\n",
  "df[['mpg', 'horsepower', 'weight']].head()"
 ]
  },
{
 "cell_type": "code",
 "execution_count": null,
 "metadata": {},
 "outputs": [],
 "source": [
  "# Select rows 0 to 4 (inclusive of 0, exclusive of 5)\n",
  "df.iloc[0:5]"
 ]
},
{
 "cell_type": "code",
 "execution_count": null,
 "metadata": {},
 "outputs": [],
 "source": [
  "# Select rows 0 to 4 and only the mpg and name columns\n",
  "df.loc[0:4, ['mpg', 'name']]"
 ]
  },
{
 "cell_type": "markdown",
 "metadata": {},
 "source": [
  "## ✍️ Exercise 2: Try Some Slicing\n",
  "\n",
  "Use the cells below to practice:\n",
  "\n",
  "1. Show the `horsepower` of the first 10 cars.\n",
  "2. Show `name`, `mpg`, and `weight` for rows 10 to 15.\n",
  "3. Show all cars with an MPG greater than 35."
 ]
},
{
 "cell_type": "code",
 "execution_count": null,
 "metadata": {},
 "outputs": [],
 "source": [
  "# 1. Horsepower of first 10 cars\n",
  "df['horsepower'].iloc[:10]"
 ]
},
{
 "cell_type": "code",
 "execution_count": null,
 "metadata": {},
 "outputs": [],
 "source": [
  "# 2. Selected columns and rows 10–15\n",
  "df.loc[10:15, ['name', 'mpg', 'weight']]"
 ]
},
{
 "cell_type": "code",
 "execution_count": null,
 "metadata": {},
 "outputs": [],
 "source": [
  "# 3. Cars with mpg > 35\n",
  "df[df['mpg'] > 35]"
 ]
},
{
 "cell_type": "markdown",
 "metadata": {},
 "source": [
  "You now know how to access and explore different parts of your dataset — a key skill in any analysis.\n",
  "\n",
  "Coming up next: **cleaning and transforming data** to fix missing values and prepare it for deeper insights."
 ]
},
  {
   "cell_type": "markdown",
   "metadata": {},
   "source": [
    "## ✅ Summary\n",
    "\n",
    "- We used `pandas` to load a dataset from a URL\n",
    "- Explored the size, shape, and contents of the data\n",
    "- Viewed summary statistics and sample records\n",
    "- Practiced answering simple analytical questions\n",
    "\n",
    "In the next topic, we will **clean and prepare the data** so it's ready for deeper analysis!"
   ]
  }
 ],
 "metadata": {
  "kernelspec": {
   "display_name": "Python 3",
   "language": "python",
   "name": "python3"
  },
  "language_info": {
   "name": "python",
   "version": "3.9"
  }
 },
 "nbformat": 4,
 "nbformat_minor": 5
}
